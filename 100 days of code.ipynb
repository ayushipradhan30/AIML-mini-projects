{
 "cells": [
  {
   "cell_type": "code",
   "execution_count": 1,
   "id": "def1bd8c-a288-44b7-bb23-f5866d660136",
   "metadata": {},
   "outputs": [
    {
     "name": "stdin",
     "output_type": "stream",
     "text": [
      " 10\n"
     ]
    },
    {
     "name": "stdout",
     "output_type": "stream",
     "text": [
      "Positive\n"
     ]
    }
   ],
   "source": [
    "#Positive and negative number\n",
    "num = int(input())\n",
    "'''if num < 0:\n",
    "    print (\"Negative\")\n",
    "elif num == 0:\n",
    "    print(\"Zero\")\n",
    "else:\n",
    "    print(\"Positive\")'''\n",
    "print(\"Positive\" if num >= 0 else \"Negative\")"
   ]
  },
  {
   "cell_type": "code",
   "execution_count": 2,
   "id": "f0762046-453d-4684-a8fd-10f31fa3ea17",
   "metadata": {},
   "outputs": [
    {
     "name": "stdin",
     "output_type": "stream",
     "text": [
      " 2\n"
     ]
    },
    {
     "name": "stdout",
     "output_type": "stream",
     "text": [
      "Even\n"
     ]
    }
   ],
   "source": [
    "#Even Odd\n",
    "def iseven(num):\n",
    "    if num % 2 == 0:\n",
    "        return num\n",
    "\n",
    "if __name__=='__main__':\n",
    "\n",
    "    num = int(input())\n",
    "    if iseven(num):\n",
    "        print(\"Even\")\n",
    "    else:\n",
    "        print(\"Odd\")"
   ]
  },
  {
   "cell_type": "code",
   "execution_count": 3,
   "id": "9f523052-4d1e-448c-a0b9-c18dfdc27ab7",
   "metadata": {},
   "outputs": [
    {
     "name": "stdin",
     "output_type": "stream",
     "text": [
      " 313\n"
     ]
    },
    {
     "name": "stdout",
     "output_type": "stream",
     "text": [
      "49141\n"
     ]
    }
   ],
   "source": [
    "#Sum of first n natural numbers\n",
    "def num_sum(n):\n",
    "    return int((n*(n+1))/2)\n",
    "\n",
    "if __name__=='__main__':\n",
    "    n = int(input())\n",
    "    print (num_sum(n))"
   ]
  },
  {
   "cell_type": "code",
   "execution_count": 4,
   "id": "12678224-bbc6-44a4-b1c0-77b561bb4206",
   "metadata": {},
   "outputs": [
    {
     "name": "stdin",
     "output_type": "stream",
     "text": [
      "Enter range::  1  10\n"
     ]
    },
    {
     "name": "stdout",
     "output_type": "stream",
     "text": [
      "55\n"
     ]
    }
   ],
   "source": [
    "#Sum of natural numbers within given range\n",
    "def sum_range(n1, n2):\n",
    "    return int((n2*(n2+1)/2)-(n1*(n1+1)/2)+n1)\n",
    "\n",
    "if __name__=='__main__':\n",
    "    n1, n2 = list(map(int, input(\"Enter range:: \").split()))\n",
    "    print(sum_range(n1,n2))"
   ]
  },
  {
   "cell_type": "code",
   "execution_count": 5,
   "id": "d7d4a9fa-67f1-400d-8bdc-91e36df3a1a2",
   "metadata": {},
   "outputs": [
    {
     "name": "stdin",
     "output_type": "stream",
     "text": [
      " 4 2\n"
     ]
    },
    {
     "name": "stdout",
     "output_type": "stream",
     "text": [
      "4\n"
     ]
    }
   ],
   "source": [
    "#Greatest of 2 numbers\n",
    "a,b = list(map(int, input().split()))\n",
    "#print(a if a > b else b)\n",
    "print(max(a,b))"
   ]
  },
  {
   "cell_type": "code",
   "execution_count": 6,
   "id": "73306d81-0772-4d32-ae05-ddbd0724fce2",
   "metadata": {},
   "outputs": [
    {
     "name": "stdin",
     "output_type": "stream",
     "text": [
      " 2 5 5\n"
     ]
    },
    {
     "name": "stdout",
     "output_type": "stream",
     "text": [
      "5\n"
     ]
    }
   ],
   "source": [
    "#Greatest of 3 numbers\n",
    "a,b,c = list(map(int, input().split()))\n",
    "\n",
    "max = a if a>b else b\n",
    "max = c if c > max else max\n",
    "print(max)"
   ]
  },
  {
   "cell_type": "code",
   "execution_count": 7,
   "id": "4c89c367-8d7d-457d-8b54-7c69fd6e2140",
   "metadata": {},
   "outputs": [
    {
     "name": "stdin",
     "output_type": "stream",
     "text": [
      " 1900\n"
     ]
    },
    {
     "name": "stdout",
     "output_type": "stream",
     "text": [
      "1900 is not a leap year\n"
     ]
    }
   ],
   "source": [
    "#Leap year\n",
    "leap = lambda y:(y % 4 == 0 and y % 100 !=0) or (y % 400 == 0)\n",
    "\n",
    "y = int(input())\n",
    "if(leap(y)):\n",
    "    print(y, \"is a leap year\")\n",
    "else:\n",
    "    print(y, \"is not a leap year\")"
   ]
  },
  {
   "cell_type": "code",
   "execution_count": 8,
   "id": "45a473ae-2dfb-48e3-88ec-5ac189305617",
   "metadata": {},
   "outputs": [
    {
     "name": "stdin",
     "output_type": "stream",
     "text": [
      " 5\n"
     ]
    },
    {
     "name": "stdout",
     "output_type": "stream",
     "text": [
      "Prime\n"
     ]
    }
   ],
   "source": [
    "#Prime number\n",
    "num = int(input())\n",
    "flag = 0\n",
    "\n",
    "for i in range(2,int((num/2)+1)):\n",
    "    if num % i ==0:\n",
    "        flag = 1\n",
    "        break\n",
    "        \n",
    "if flag == 1:\n",
    "    print(\"Not Prime\")\n",
    "else:\n",
    "    print(\"Prime\")"
   ]
  },
  {
   "cell_type": "code",
   "execution_count": 9,
   "id": "70344e9b-5265-4269-ae68-ca329c8518ff",
   "metadata": {},
   "outputs": [
    {
     "name": "stdin",
     "output_type": "stream",
     "text": [
      " 9 44\n"
     ]
    },
    {
     "name": "stdout",
     "output_type": "stream",
     "text": [
      "[11, 13, 17, 19, 23, 29, 31, 37, 41, 43]\n"
     ]
    }
   ],
   "source": [
    "#Prime number in given range\n",
    "a,b = list(map(int, input().split()))\n",
    "prime=[]\n",
    "\n",
    "for i in range(a, b+1):\n",
    "    flag = 0\n",
    "    if i < 2:\n",
    "        continue\n",
    "    if i == 2:\n",
    "        prime.append(2)\n",
    "        continue\n",
    "    for j in range(2, i):\n",
    "        if i % j == 0:\n",
    "            flag = 1\n",
    "            break\n",
    "    if flag == 0:\n",
    "        prime.append(i)\n",
    "\n",
    "print(prime)        "
   ]
  },
  {
   "cell_type": "code",
   "execution_count": 10,
   "id": "889ab041-6671-4425-8f2c-75ea933ebaf7",
   "metadata": {},
   "outputs": [
    {
     "name": "stdin",
     "output_type": "stream",
     "text": [
      " 4578\n"
     ]
    },
    {
     "name": "stdout",
     "output_type": "stream",
     "text": [
      "24\n"
     ]
    }
   ],
   "source": [
    "#Sum of digits of number\n",
    "def digit_sum(n):\n",
    "    sum = 0\n",
    "    while n != 0:\n",
    "        temp = n % 10\n",
    "        sum += temp\n",
    "        n = n // 10\n",
    "    return sum\n",
    "\n",
    "if __name__=='__main__':\n",
    "    n = int(input())\n",
    "    s = digit_sum(n)\n",
    "    print(s)"
   ]
  },
  {
   "cell_type": "code",
   "execution_count": 11,
   "id": "f0753841-00ac-415f-842c-2116663d7433",
   "metadata": {},
   "outputs": [
    {
     "name": "stdin",
     "output_type": "stream",
     "text": [
      " 54\n"
     ]
    },
    {
     "name": "stdout",
     "output_type": "stream",
     "text": [
      "45\n"
     ]
    }
   ],
   "source": [
    "#Reverse a number\n",
    "'''\n",
    "def reverse(n):\n",
    "    rev = 0\n",
    "    while n != 0:\n",
    "        temp = n % 10\n",
    "        rev = (rev * 10) + temp\n",
    "        n = n // 10\n",
    "    return rev\n",
    "if __name__=='__main__':\n",
    "    n = int(input())\n",
    "    print(reverse(n))\n",
    "'''\n",
    "\n",
    "num = input()\n",
    "print(num[::-1])"
   ]
  },
  {
   "cell_type": "code",
   "execution_count": 12,
   "id": "c8c7c7c7-0094-499b-9c37-34313b7406b1",
   "metadata": {},
   "outputs": [
    {
     "name": "stdin",
     "output_type": "stream",
     "text": [
      " 554\n"
     ]
    },
    {
     "name": "stdout",
     "output_type": "stream",
     "text": [
      "Not Palindrome\n"
     ]
    }
   ],
   "source": [
    "#Palindrome number\n",
    "def palindrome(n):\n",
    "    s = str(n)\n",
    "    if s == s[::-1]:\n",
    "        return True\n",
    "    else:\n",
    "        return False\n",
    "\n",
    "if __name__=='__main__':\n",
    "    n = int(input())\n",
    "\n",
    "    print(\"Palindrome\" if palindrome(n) else \"Not Palindrome\")"
   ]
  },
  {
   "cell_type": "code",
   "execution_count": 13,
   "id": "257bf641-176f-4380-aecd-3b11d5735ba5",
   "metadata": {},
   "outputs": [
    {
     "name": "stdin",
     "output_type": "stream",
     "text": [
      " 153\n"
     ]
    },
    {
     "name": "stdout",
     "output_type": "stream",
     "text": [
      "Armstorng\n"
     ]
    }
   ],
   "source": [
    "#Armstrong number\n",
    "def armstrong(n):\n",
    "    s, rem = 0,0\n",
    "    s = 0\n",
    "    l = len(str(n)) \n",
    "    for i in range(l):\n",
    "        rem = n % 10\n",
    "        s += pow(rem, l)\n",
    "        n = n // 10\n",
    "    return s\n",
    "\n",
    "if __name__=='__main__':\n",
    "    n = int(input())\n",
    "    a = armstrong(n)\n",
    "    \n",
    "    if a == n:\n",
    "        print(\"Armstorng\")\n",
    "    else:\n",
    "        print(\"Not Armstrong\")"
   ]
  },
  {
   "cell_type": "code",
   "execution_count": null,
   "id": "b8484de6-0fd5-46d9-894e-3d12ce0685fb",
   "metadata": {},
   "outputs": [],
   "source": [
    "#Armstrong nuber in given range\n",
    "n1 ,n2 = list(map(int, input().split()))\n",
    "order = 0\n",
    "for i in range(n1,n2+1):\n",
    "    order = len(str(i))\n",
    "    sum = 0\n",
    "    temp = i\n",
    "    while i != 0:\n",
    "        rem = temp % 10\n",
    "        sum += i ** order\n",
    "        temp = temp // 10\n",
    "    if sum == i:\n",
    "        print(i)"
   ]
  },
  {
   "cell_type": "code",
   "execution_count": null,
   "id": "33391811-b241-4c44-ba24-8f053e0f83ef",
   "metadata": {},
   "outputs": [],
   "source": [
    "#Fibonacci series\n",
    "n = int(input())\n",
    "n1,n2 = 0 , 1\n",
    "fibo = [n1, n2]\n",
    "for i in range(2, n):\n",
    "    n3 = n1 + n2\n",
    "    n1 = n2\n",
    "    n2 = n3\n",
    "    \n",
    "    fibo.append(n3)\n",
    "print(fibo)"
   ]
  },
  {
   "cell_type": "code",
   "execution_count": null,
   "id": "8d4e8dbc-68de-443a-8f02-ebbb665110fa",
   "metadata": {},
   "outputs": [],
   "source": [
    "#Factorial number\n",
    "def fact(n):\n",
    "    fac = 1\n",
    "    for i in range(1,n+1):\n",
    "        fac *= i\n",
    "    return fac\n",
    "\n",
    "if __name__=='__main__':\n",
    "    n = int(input())\n",
    "    print(fact(n))"
   ]
  },
  {
   "cell_type": "code",
   "execution_count": 15,
   "id": "3b2fca23-afa5-4acd-9f88-c1e3c667b30c",
   "metadata": {},
   "outputs": [
    {
     "name": "stdin",
     "output_type": "stream",
     "text": [
      " 7 9\n"
     ]
    },
    {
     "name": "stdout",
     "output_type": "stream",
     "text": [
      "40353607\n"
     ]
    }
   ],
   "source": [
    "#Power of number\n",
    "n,pow = list(map(int, input().split()))\n",
    "print(n**pow)"
   ]
  },
  {
   "cell_type": "code",
   "execution_count": 16,
   "id": "c754fbf0-2192-4d01-ba74-1561c3d9de10",
   "metadata": {},
   "outputs": [
    {
     "name": "stdin",
     "output_type": "stream",
     "text": [
      " 90\n"
     ]
    },
    {
     "name": "stdout",
     "output_type": "stream",
     "text": [
      "[2, 3, 5, 6, 9, 10, 15, 18, 30, 45, 90]\n"
     ]
    }
   ],
   "source": [
    "#Factor of a number\n",
    "n = int(input())\n",
    "fac = []\n",
    "for i in range(2,n+1):\n",
    "    if n % i == 0:\n",
    "        fac.append(i)\n",
    "print(fac)"
   ]
  },
  {
   "cell_type": "code",
   "execution_count": null,
   "id": "59c6f1ee-7b9a-404a-af0c-2fcba68361d5",
   "metadata": {},
   "outputs": [],
   "source": [
    "#Strong Number\n",
    "def fact(n):\n",
    "    fac = 1\n",
    "    for i in range(1,n+1):\n",
    "        fac *= i\n",
    "    return fac\n",
    "if __name__=='__main__':    \n",
    "    n = int(input())\n",
    "    temp = n\n",
    "    sum = 0\n",
    "    while n!= 0:\n",
    "        rem = temp % 10\n",
    "        f = fact(rem)\n",
    "        sum += f\n",
    "        temp //= 10\n",
    "\n",
    "    if sum == n:\n",
    "        print(\"Strong\")\n",
    "    else:\n",
    "        print(\"Not Strong\")"
   ]
  },
  {
   "cell_type": "code",
   "execution_count": null,
   "id": "f15b1dc7-71ea-408d-bf45-16d32b326a4f",
   "metadata": {},
   "outputs": [],
   "source": [
    "#Perfect Number\n",
    "n = int(input())\n",
    "sum = 0\n",
    "for i in range(1,n):\n",
    "    if n % i == 0:\n",
    "        sum += i\n",
    "if sum == n:\n",
    "    print(\"Perfect\")\n",
    "else:\n",
    "    print(\"Not perfect\")"
   ]
  },
  {
   "cell_type": "code",
   "execution_count": null,
   "id": "bd2b2890-04ea-4601-a759-a2f2f9a7f389",
   "metadata": {},
   "outputs": [],
   "source": [
    "#Automorphic number\n",
    "n = int(input())\n",
    "sqr = pow(n,2)\n",
    "mod = pow(10, len(str(n)))\n",
    "\n",
    "if sqr % mod == n:\n",
    "    print(\"True\")\n",
    "else:\n",
    "    print(\"False\")"
   ]
  },
  {
   "cell_type": "code",
   "execution_count": null,
   "id": "567c76f1-c82f-4df6-8545-ec14203bc283",
   "metadata": {},
   "outputs": [],
   "source": [
    "#Harshad number\n",
    "n = int(input())\n",
    "sum = 0\n",
    "while n != 0:\n",
    "    rem = n % 10\n",
    "    sum += n\n",
    "    n //= 10\n",
    "\n",
    "if n % sum == 0:\n",
    "    print(\"Harshad number\")\n",
    "else:\n",
    "    print(\"Not harshad number\")"
   ]
  },
  {
   "cell_type": "code",
   "execution_count": null,
   "id": "6cf6533c-8549-4bfc-b96c-0e05be0e73f2",
   "metadata": {},
   "outputs": [],
   "source": [
    "#Abundant number\n",
    "n = int(input())\n",
    "sum = 0\n",
    "\n",
    "for i in range(2,n):\n",
    "    if n % i == 0:\n",
    "        sum += i\n",
    "if sum > n:\n",
    "    print(\"Abundant number\")\n",
    "else:\n",
    "    print(\"Not\")"
   ]
  },
  {
   "cell_type": "code",
   "execution_count": null,
   "id": "ccabd186-fe29-4ef8-828b-95248cd760b4",
   "metadata": {},
   "outputs": [],
   "source": [
    "#HCF\n",
    "n1,n2 = list(map(int, input().split()))\n",
    "hcf = 1\n",
    "\n",
    "for i in range(1,min(n1,n2)):\n",
    "    if n1 % i == 0 and n2 % i == 0:\n",
    "        hcf = i\n",
    "print(hcf)"
   ]
  },
  {
   "cell_type": "code",
   "execution_count": null,
   "id": "f280e11b-0361-4234-ad0e-5bfcc8268d95",
   "metadata": {},
   "outputs": [],
   "source": [
    "#LCM\n",
    "n1, n2 = list(map(int,input().split()))\n",
    "lcm = 1\n",
    "\n",
    "for i in range(max(n1,n2), 1+(n1*n2)):\n",
    "    if i % n1 == i % n2 == 0: \n",
    "        lcm = i\n",
    "        break\n",
    "print(lcm)"
   ]
  },
  {
   "cell_type": "code",
   "execution_count": null,
   "id": "d02de39b-309f-4434-93c8-ee29451c0c15",
   "metadata": {},
   "outputs": [],
   "source": [
    "#GCD\n",
    "n1,n2 = list(map(int,input().split()))\n",
    "gcd = 1\n",
    "for i in range(1,min(n1,n2)):\n",
    "    if(n1 % i == 0 and n2 % i == 0):\n",
    "        gcd = i\n",
    "print(gcd)"
   ]
  },
  {
   "cell_type": "code",
   "execution_count": null,
   "id": "2b96d635-ac32-400b-9209-5e8b68e1653a",
   "metadata": {},
   "outputs": [],
   "source": [
    "#Binary to decimal\n",
    "n = int(input())\n",
    "base = 1\n",
    "dec = 0\n",
    "\n",
    "while n > 0:\n",
    "    rem = n % 10\n",
    "    dec = dec + rem * base\n",
    "    n = n // 10\n",
    "    base = base * 2\n",
    "print(dec)"
   ]
  },
  {
   "cell_type": "code",
   "execution_count": null,
   "id": "1316c3a8-15b2-4e59-82c1-1de19adb458c",
   "metadata": {},
   "outputs": [],
   "source": [
    "#Octal to Decimal \n",
    "n = int(input())\n",
    "\n",
    "oct = int(str(n),8)\n",
    "print(oct)"
   ]
  },
  {
   "cell_type": "code",
   "execution_count": null,
   "id": "0d871858-633e-4e35-abeb-306a926211de",
   "metadata": {},
   "outputs": [],
   "source": [
    "#Decimal to Hex\n",
    "def hex(n):\n",
    "    hexa = []\n",
    "    while n != 0:\n",
    "        rem = n % 16\n",
    "        if rem < 10:\n",
    "            hexa.append(chr(rem + 48))\n",
    "        else:\n",
    "            hexa.append(chr(rem + 55))\n",
    "        n = n // 16\n",
    "    hexa.reverse()\n",
    "    return ''.join(hexa)\n",
    "\n",
    "if __name__ == '__main__':\n",
    "    n = int(input())\n",
    "    print(hex(n))"
   ]
  },
  {
   "cell_type": "code",
   "execution_count": null,
   "id": "fc5b92e5-7590-4997-8b4b-22269339609f",
   "metadata": {},
   "outputs": [],
   "source": [
    "# Fraction Addition\n",
    "def gcd(n1,n2):\n",
    "    g = 1\n",
    "    for i in range(1,min(n1,n2)):\n",
    "        if (n1 % i == 0) and (n2 % i == 0):\n",
    "            g = i\n",
    "    return g\n",
    "\n",
    "n1,d1 = list(map(int,input().split()))\n",
    "n2,d2 = list(map(int,input().split()))\n",
    "\n",
    "lcm = (d1 * d2) // gcd(d1,d2) \n",
    "sum = (n1 * lcm // d1) + (n2 * lcm // d2)\n",
    "n3 = sum // gcd(sum,lcm)\n",
    "lcm = lcm // gcd(sum,lcm)\n",
    "\n",
    "print(n1, \"/\" ,d1, \"/\" \"+\" ,n2,\"/\" ,d2, \"=\" ,n3, \"/\", lcm)"
   ]
  },
  {
   "cell_type": "code",
   "execution_count": null,
   "id": "6093abbb-961f-4a41-8f23-a6db16ac5aed",
   "metadata": {},
   "outputs": [],
   "source": [
    "#Coordinates\n",
    "x , y = list(map(int,input().split()))\n",
    "\n",
    "if x > 0 and y > 0:\n",
    "    print(\"1st\")\n",
    "elif x < 0 and y > 0:\n",
    "    print(\"2nd\")\n",
    "elif x < 0 and y < 0:\n",
    "    print(\"3rd\")\n",
    "elif x > 0 and y < 0 :\n",
    "    print(\"4th\")\n",
    "elif x == 0 and y == 0:\n",
    "    print(\"Centre\")\n",
    "elif y != 0 and x == 0:\n",
    "    print(\"On Y axis\")\n",
    "elif x != 0 and y == 0:\n",
    "    print(\"On X axis\")\n",
    "else:\n",
    "    print(\"invalid\")"
   ]
  },
  {
   "cell_type": "code",
   "execution_count": null,
   "id": "180c6a7d-756e-4ec3-9807-96a3f6b1bac5",
   "metadata": {},
   "outputs": [],
   "source": [
    "#Max no. of handshakes\n",
    "n = int(input())\n",
    "\n",
    "h = (n * (n-1)) // 2\n",
    "print(h)"
   ]
  },
  {
   "cell_type": "code",
   "execution_count": null,
   "id": "b6505ba0-8258-47b4-94b0-867fec4e54e8",
   "metadata": {},
   "outputs": [],
   "source": [
    "#Replace 0s with 1\n",
    "n = int(input())\n",
    "n2 = 0\n",
    "'''\n",
    "s = str(n)\n",
    "n2 = s.replace(\"0\" , \"1\")\n",
    "print(n2)\n",
    "'''\n",
    "\n",
    "if n == 0:\n",
    "    n2 = 1\n",
    "\n",
    "while n < 0:\n",
    "    rem = n % 10\n",
    "    if rem == 0:\n",
    "        rem = 1\n",
    "        n //= 10\n",
    "        n2 = n2 * 10 + rem\n",
    "\n",
    "while n < 0:\n",
    "    r = n % 10\n",
    "    if r == 1:\n",
    "        n = n * 10 + r\n",
    "        n //=10\n",
    "print(n)"
   ]
  },
  {
   "cell_type": "code",
   "execution_count": null,
   "id": "f832c82c-265b-405b-a6a6-3e3ae567be84",
   "metadata": {},
   "outputs": [],
   "source": [
    "#Sum of prime nos\n",
    "n = int(input())\n",
    "flag = 0\n",
    "arr = []\n",
    "\n",
    "for i in range(2 , n):\n",
    "    flag = 0\n",
    "    for j in range(2 , i):\n",
    "        if i % j == 0:\n",
    "            flag = 1\n",
    "    if flag == 0:\n",
    "        arr.append(i)\n",
    "\n",
    "flag = 0\n",
    "for i in range(len(arr)):\n",
    "    for j in range(i+1,len(arr)):\n",
    "        if arr[i] + arr[j] == n:\n",
    "            flag = 1\n",
    "            print(arr[i] , \"+\", arr[j] ,\"=\",n)\n",
    "            break\n",
    "if flag == 0:\n",
    "    print(\"Sum is not possible\")"
   ]
  },
  {
   "cell_type": "code",
   "execution_count": null,
   "id": "c829792f-5d6a-42d3-94c5-eee1d0223138",
   "metadata": {},
   "outputs": [],
   "source": [
    "#Area and circumference of circle\n",
    "from math import pi \n",
    "r = int(input())\n",
    "area = pi * r * r\n",
    "cir = 2 * pi * r\n",
    "print(\"area = \",round(area,2))\n",
    "print(\"cir = \",round(cir,2))"
   ]
  },
  {
   "cell_type": "code",
   "execution_count": null,
   "id": "3f4fabd2-fe93-4308-a418-ae1d8f812941",
   "metadata": {},
   "outputs": [],
   "source": [
    "#Prime numbers from 1 to 100\n",
    "l = 1\n",
    "h = 100\n",
    "flag = 0\n",
    "for i in range(l, h + 1):\n",
    "    x = i // 2\n",
    "    for j in range(2, x + 1):\n",
    "        if i % j == 0:\n",
    "            flag = 0\n",
    "        else:\n",
    "            flag = 1\n",
    "    if flag == 1:\n",
    "        print(i,end=' ')"
   ]
  },
  {
   "cell_type": "code",
   "execution_count": null,
   "id": "710aded4-710e-4f4c-bb8e-9e04ff5bc648",
   "metadata": {},
   "outputs": [],
   "source": [
    "#Number of digits \n",
    "n = int(input())\n",
    "d = 0\n",
    "while n != 0:\n",
    "    n = n // 10\n",
    "    d += 1\n",
    "print(d)"
   ]
  },
  {
   "cell_type": "code",
   "execution_count": 17,
   "id": "bfeb93a0-c1ad-460c-a473-953d27bf7509",
   "metadata": {},
   "outputs": [
    {
     "name": "stdin",
     "output_type": "stream",
     "text": [
      " 888\n"
     ]
    },
    {
     "name": "stdout",
     "output_type": "stream",
     "text": [
      "eight hundred and eighty-eight\n"
     ]
    }
   ],
   "source": [
    "#Number to Words\n",
    "from num2words import num2words\n",
    "n = int(input())\n",
    "print(num2words(n))"
   ]
  },
  {
   "cell_type": "code",
   "execution_count": 22,
   "id": "cf60356a-e009-4f51-aa2f-783394933346",
   "metadata": {},
   "outputs": [
    {
     "name": "stdin",
     "output_type": "stream",
     "text": [
      " 2003 4\n"
     ]
    },
    {
     "name": "stdout",
     "output_type": "stream",
     "text": [
      "Days =  30\n"
     ]
    }
   ],
   "source": [
    "#count the number of days in a given month of a year\n",
    "n, mon = list(map(int, input().split()))\n",
    "\n",
    "arr = [31, 28, 31, 30, 31, 30, 31, 31, 30, 31, 30, 31]\n",
    "\n",
    "if((mon == 2) & ((n % 400 == 0 ) | ((n % 100 != 0) & (n % 4 == 0)))):\n",
    "    print(\"Days = \", arr[mon - 1] + 1)\n",
    "\n",
    "else:\n",
    "    print(\"Days = \", arr[mon - 1])"
   ]
  },
  {
   "cell_type": "code",
   "execution_count": null,
   "id": "0b51dcd3-ac67-4488-b914-b27c06c49e8b",
   "metadata": {},
   "outputs": [],
   "source": []
  }
 ],
 "metadata": {
  "kernelspec": {
   "display_name": "Python 3 (ipykernel)",
   "language": "python",
   "name": "python3"
  },
  "language_info": {
   "codemirror_mode": {
    "name": "ipython",
    "version": 3
   },
   "file_extension": ".py",
   "mimetype": "text/x-python",
   "name": "python",
   "nbconvert_exporter": "python",
   "pygments_lexer": "ipython3",
   "version": "3.11.7"
  }
 },
 "nbformat": 4,
 "nbformat_minor": 5
}
