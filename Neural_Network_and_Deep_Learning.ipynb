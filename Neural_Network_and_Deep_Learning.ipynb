{
  "nbformat": 4,
  "nbformat_minor": 0,
  "metadata": {
    "colab": {
      "provenance": [],
      "authorship_tag": "ABX9TyNYH1KKGD5dhYmqNkaxQIbI",
      "include_colab_link": true
    },
    "kernelspec": {
      "name": "python3",
      "display_name": "Python 3"
    },
    "language_info": {
      "name": "python"
    }
  },
  "cells": [
    {
      "cell_type": "markdown",
      "metadata": {
        "id": "view-in-github",
        "colab_type": "text"
      },
      "source": [
        "<a href=\"https://colab.research.google.com/github/ayushipradhan30/AIML-mini-projects/blob/main/Neural_Network_and_Deep_Learning.ipynb\" target=\"_parent\"><img src=\"https://colab.research.google.com/assets/colab-badge.svg\" alt=\"Open In Colab\"/></a>"
      ]
    },
    {
      "cell_type": "code",
      "execution_count": null,
      "metadata": {
        "id": "YdJEVdTUCdPr"
      },
      "outputs": [],
      "source": [
        "import numpy as np\n",
        "import pandas as pd\n",
        "import seaborn as sns\n",
        "import matplotlib.pyplot as plt\n",
        "%matplotlib inline\n",
        "import h5py\n",
        "from sklearn.decomposition import PCA\n",
        "from sklearn.neighbors import KNeighborsClassifier\n",
        "from sklearn.metrics import confusion_matrix, accuracy_score, classification_report\n",
        "import tensorflow as tf\n",
        "from tensorflow.keras.models import Sequential\n",
        "from tensorflow.keras.utils import to_categorical\n",
        "from tensorflow.keras.layers import Activation, Dense, BatchNormalization, Dropout, Input\n",
        "from keras import optimizers\n",
        "from keras.optimizers import SGD, Adam\n",
        "\n",
        "print('TensorFlow Version: ', tf.__version__)\n",
        "import os"
      ]
    },
    {
      "cell_type": "code",
      "source": [
        "from google.colab import drive\n",
        "drive.mount('/content/drive')"
      ],
      "metadata": {
        "id": "0HZXlIvxEmTG"
      },
      "execution_count": null,
      "outputs": []
    },
    {
      "cell_type": "code",
      "source": [
        "!ls '/content/drive/My Drive/train'"
      ],
      "metadata": {
        "id": "y5vPJci0iB5a"
      },
      "execution_count": null,
      "outputs": []
    },
    {
      "cell_type": "code",
      "source": [
        "file_path = '/content/drive/My Drive/train/SVHN_single_grey1.h5'\n",
        "hdf = h5py.File(file_path, 'r')\n",
        "hdf.keys()"
      ],
      "metadata": {
        "id": "StLkAbyCi1Ea"
      },
      "execution_count": null,
      "outputs": []
    },
    {
      "cell_type": "code",
      "source": [
        "x_train = hdf['X_train']\n",
        "x_test = hdf['X_test']\n",
        "x_val = hdf['X_val']\n",
        "y_train = hdf['y_train']\n",
        "y_test = hdf['y_test']\n",
        "y_val = hdf['y_val']"
      ],
      "metadata": {
        "id": "b2up8uG6UrnW"
      },
      "execution_count": null,
      "outputs": []
    },
    {
      "cell_type": "code",
      "source": [
        "print(\"x_train: \", x_train.shape)\n",
        "print(\"y_train: \", y_train.shape)\n",
        "print(\"x_val: \", x_val.shape)\n",
        "print(\"y_val: \", y_val.shape)\n",
        "print(\"x_test: \", x_test.shape)\n",
        "print(\"y_test: \", y_test.shape)"
      ],
      "metadata": {
        "id": "GIBPwLziqvxn"
      },
      "execution_count": null,
      "outputs": []
    },
    {
      "cell_type": "code",
      "source": [
        "fig = plt.figure(figsize = (10,10))\n",
        "cols = 10\n",
        "rows = 10\n",
        "for i in range(1, cols * rows + 1):\n",
        "  img = x_test[i]\n",
        "  fig.add_subplot(rows, cols, i)\n",
        "  plt.imshow(img, cmap = 'gray')\n",
        "plt.show()"
      ],
      "metadata": {
        "id": "VDfPXt54nJ37"
      },
      "execution_count": null,
      "outputs": []
    },
    {
      "cell_type": "code",
      "source": [
        "plt.imshow(x_train[0], cmap = 'gray')\n",
        "plt.show()\n",
        "print(\"label: \", y_train[0])"
      ],
      "metadata": {
        "id": "jIy6p1wBxcnx"
      },
      "execution_count": null,
      "outputs": []
    },
    {
      "cell_type": "code",
      "source": [
        "plt.imshow(x_test[0], cmap = 'gray')\n",
        "plt.show()\n",
        "print(\"label: \", y_test[0])"
      ],
      "metadata": {
        "id": "WyWvZt7RzFvJ"
      },
      "execution_count": null,
      "outputs": []
    },
    {
      "cell_type": "code",
      "source": [
        "plt.figure(figsize = (10,1))\n",
        "for i in range(10):\n",
        "  plt.subplot(1, 10, i + 1)\n",
        "  plt.imshow(x_train[i].reshape(32,32), cmap = 'gray', )\n",
        "  plt.axis('off')\n",
        "plt.show()\n",
        "print('Labels for each of the above image: %s' %(y_train[0:10]))"
      ],
      "metadata": {
        "id": "SFsUw218zNhC"
      },
      "execution_count": null,
      "outputs": []
    },
    {
      "cell_type": "markdown",
      "source": [
        "## Implementing an optimal K-Nearest Neighbour Classifier"
      ],
      "metadata": {
        "id": "7CTfmVaOfI-M"
      }
    },
    {
      "cell_type": "code",
      "source": [
        "print(x_train.shape)\n",
        "print(x_test.shape)\n",
        "print(x_val.shape)"
      ],
      "metadata": {
        "id": "fxtpUeVj0GgY"
      },
      "execution_count": null,
      "outputs": []
    },
    {
      "cell_type": "code",
      "source": [
        "x_train = np.asarray(x_train).reshape(42000, 1024)\n",
        "x_test = np.asarray(x_test).reshape(18000, 1024)\n",
        "x_val = np.asarray(x_val).reshape(60000, 1024)"
      ],
      "metadata": {
        "id": "U-9hTqEEfjJp"
      },
      "execution_count": null,
      "outputs": []
    },
    {
      "cell_type": "code",
      "source": [
        "x_train = x_train.astype('float32') / 255\n",
        "x_test = x_test.astype('float32') / 255\n",
        "x_val = x_val.astype('float32') / 255"
      ],
      "metadata": {
        "id": "sWXL5x4ehpK0"
      },
      "execution_count": null,
      "outputs": []
    },
    {
      "cell_type": "code",
      "source": [
        "neighbors = list(range(1, 30, 2))"
      ],
      "metadata": {
        "id": "F6ltUvAgjcEj"
      },
      "execution_count": null,
      "outputs": []
    },
    {
      "cell_type": "code",
      "source": [
        "acc_score = []\n",
        "\n",
        "for i in neighbors:\n",
        "  knn = KNeighborsClassifier()\n",
        "  knn.fit(x_train, y_train)\n",
        "  y_pred = knn.predict(x_test)\n",
        "  scores = accuracy_score(y_test, y_pred)\n",
        "  acc_score.append(scores)\n",
        "\n",
        "MSE = [1 - x for x in acc_score]\n",
        "\n",
        "optimal_k = neighbors[MSE.index(min(MSE))]\n",
        "print(optimal_k)"
      ],
      "metadata": {
        "id": "YsDEzVt1jh8o"
      },
      "execution_count": null,
      "outputs": []
    },
    {
      "cell_type": "code",
      "source": [
        "knn = KNeighborsClassifier(n_jobs = -1, n_neighbors=optimal_k)\n",
        "knn.fit(x_train, y_train)\n",
        "y_pred = knn.predict(x_test)\n",
        "\n",
        "print('\\nClassification Metric Report:\\n', classification_report(y_test, y_pred))\n",
        "print('\\nConfusion Matrix:\\n', confusion_matrix(y_test, y_pred))\n",
        "print(\"\\nAccuracy Score: \\n\", accuracy_score(y_test, y_pred))"
      ],
      "metadata": {
        "id": "KXSIsdnvk1PR"
      },
      "execution_count": null,
      "outputs": []
    },
    {
      "cell_type": "code",
      "source": [
        "plt.figure(figsize = (4,4))\n",
        "plt.imshow(x_test[70].reshape(32,32))\n",
        "plt.show()\n",
        "image = x_test[70]\n",
        "print(\"Label: \\n\", knn.predict(image.reshape(1, -1)))"
      ],
      "metadata": {
        "id": "9d4dBuQ9oviq"
      },
      "execution_count": null,
      "outputs": []
    },
    {
      "cell_type": "markdown",
      "source": [
        "Implementing Deep Neural Network"
      ],
      "metadata": {
        "id": "QcTjR5E1239B"
      }
    },
    {
      "cell_type": "code",
      "source": [
        "x_train = np.asarray(x_train).reshape(42000, 1024)\n",
        "x_test = np.asarray(x_test).reshape(18000, 1024)\n",
        "x_val = np.asarray(x_val).reshape(60000, 1024)"
      ],
      "metadata": {
        "id": "FfH38Rosp7I4"
      },
      "execution_count": null,
      "outputs": []
    },
    {
      "cell_type": "code",
      "source": [
        "y_train = tf.keras.utils.to_categorical(y_train, num_classes=10)\n",
        "y_test = tf.keras.utils.to_categorical(y_test, num_classes=10)\n",
        "y_val = tf.keras.utils.to_categorical(y_val, num_classes=10)"
      ],
      "metadata": {
        "id": "NZmK0EMo3UKi"
      },
      "execution_count": null,
      "outputs": []
    },
    {
      "cell_type": "code",
      "source": [
        "print(\"y_train:\\n\", y_train[0:5])\n",
        "print(\"y_test:\\n\", y_test[0:5])\n",
        "print(\"y_val:\\n\", y_val[0:5])"
      ],
      "metadata": {
        "id": "qJzwZDoY4K8_"
      },
      "execution_count": null,
      "outputs": []
    },
    {
      "cell_type": "code",
      "source": [
        "print(x_train.shape)\n",
        "print(x_test.shape)\n",
        "print(x_val.shape)"
      ],
      "metadata": {
        "id": "-qPJxJg26aq5"
      },
      "execution_count": null,
      "outputs": []
    },
    {
      "cell_type": "markdown",
      "source": [
        "Implementing Neural Network"
      ],
      "metadata": {
        "id": "14XCA3aM6ngM"
      }
    },
    {
      "cell_type": "code",
      "source": [
        "#Initialize the Artificial Neural Network Classifier\n",
        "keras_models = Sequential()"
      ],
      "metadata": {
        "id": "y8sEdlVj6gYk"
      },
      "execution_count": null,
      "outputs": []
    },
    {
      "cell_type": "code",
      "source": [
        "#Input Layer with 512 nodes\n",
        "keras_models.add(Dense (512, kernel_initializer='he_normal', input_shape = (1024,)))\n",
        "#Activation Function\n",
        "keras_models.add(Activation('relu'))\n",
        "\n",
        "#Hidden Layer 1\n",
        "keras_models.add(Dense(256, kernel_initializer='he_normal'))\n",
        "keras_models.add(Activation('relu'))\n",
        "\n",
        "#Hidden Layer 2\n",
        "keras_models.add(Dense(128, kernel_initializer='he_normal'))\n",
        "keras_models.add(Activation('relu'))\n",
        "\n",
        "#Hidden Layer 3\n",
        "keras_models.add(Dense(64, kernel_initializer='he_normal'))\n",
        "keras_models.add(Activation('relu'))\n",
        "\n",
        "#Hidden Layer 4\n",
        "keras_models.add(Dense(32, kernel_initializer='he_normal'))\n",
        "keras_models.add(Activation('relu'))\n",
        "\n",
        "#Output Layer with 10 nodes\n",
        "keras_models.add(Dense(10))\n",
        "#Here, we are using softmax function because we have multiclass classsification\n",
        "keras_models.add(Activation('softmax'))"
      ],
      "metadata": {
        "id": "HSQsMJIj62Mo"
      },
      "execution_count": null,
      "outputs": []
    },
    {
      "cell_type": "code",
      "source": [
        "keras_models.summary()"
      ],
      "metadata": {
        "id": "CLDsiz3l7h8K"
      },
      "execution_count": null,
      "outputs": []
    },
    {
      "cell_type": "code",
      "source": [
        "keras_models.compile(optimizer = 'SGD', loss = 'categorical_crossentropy', metrics = ['accuracy'])"
      ],
      "metadata": {
        "id": "wf_CsLB5KIIW"
      },
      "execution_count": null,
      "outputs": []
    },
    {
      "cell_type": "code",
      "source": [
        "history = keras_models.fit(x_train, y_train, validation_data = (x_val, y_val), batch_size = 200, epochs = 20, verbose = 1)"
      ],
      "metadata": {
        "id": "GdsoZRzbdWb3"
      },
      "execution_count": null,
      "outputs": []
    },
    {
      "cell_type": "code",
      "source": [
        "results = keras_models.evaluate(x_val, y_val)\n",
        "print(results[1])"
      ],
      "metadata": {
        "id": "nGUxuTFjd5aZ"
      },
      "execution_count": null,
      "outputs": []
    },
    {
      "cell_type": "code",
      "source": [
        "keras_models.compile(optimizer = 'adam', loss = 'categorical_crossentropy', metrics = ['accuracy'])"
      ],
      "metadata": {
        "id": "GHDPH_vRglhM"
      },
      "execution_count": null,
      "outputs": []
    },
    {
      "cell_type": "code",
      "source": [
        "history_1 = keras_models.fit(x_train, y_train, validation_data = (x_val, y_val), batch_size = 200, epochs = 20, verbose = 1)"
      ],
      "metadata": {
        "id": "WXf8U5tBg5_4"
      },
      "execution_count": null,
      "outputs": []
    },
    {
      "cell_type": "code",
      "source": [
        "results = keras_models.evaluate(x_val, y_val)\n",
        "print('Validation accuracy using basic Neural Network (ADAM) : ', results[1])"
      ],
      "metadata": {
        "id": "5MOIUZTriBdm"
      },
      "execution_count": null,
      "outputs": []
    },
    {
      "cell_type": "code",
      "source": [
        "SGD = optimizers.SGD(learning_rate = 0.0001)\n",
        "keras_models.compile(optimizer = 'SGD', loss = 'categorical_crossentropy', metrics = ['accuracy'])\n",
        "history_2 = keras_models.fit(x_train, y_train, validation_data = (x_val, y_val), batch_size = 200, epochs = 100, verbose = 1)"
      ],
      "metadata": {
        "id": "Eg-owl4DbkjY"
      },
      "execution_count": null,
      "outputs": []
    },
    {
      "cell_type": "code",
      "source": [
        "results_sgd = keras_models.evaluate(x_val, y_val)\n",
        "print('Validation accuracy using learning rate = 0.0001 (SGD) : ', results_sgd[1])"
      ],
      "metadata": {
        "id": "lk6ynGihcZtw"
      },
      "execution_count": null,
      "outputs": []
    },
    {
      "cell_type": "code",
      "source": [
        "results_on_val = pd.DataFrame({'Method':['Basic NN (SGD)'], 'Accuracy': round((results_sgd[1] * 100), 2)}, index=['1'])\n",
        "results_on_val = results_on_val[['Method', 'Accuracy']]\n",
        "results_on_val"
      ],
      "metadata": {
        "id": "U9r15kZetukU"
      },
      "execution_count": null,
      "outputs": []
    },
    {
      "cell_type": "code",
      "source": [
        "adam = optimizers.Adam(learning_rate = 0.0001)\n",
        "keras_models.compile(optimizer = 'adam', loss = 'categorical_crossentropy', metrics = ['Accuracy'])\n",
        "history_3 = keras_models.fit(x_train, y_train, validation_data = (x_val, y_val), batch_size = 200, epochs = 100, verbose = 1)"
      ],
      "metadata": {
        "id": "YdHPcgUanNvA"
      },
      "execution_count": null,
      "outputs": []
    },
    {
      "cell_type": "code",
      "source": [
        "results_adam = keras_models.evaluate(x_val, y_val)\n",
        "print('Validation accuracy using learning rate = 0.0001 (Adam) : ', results_adam[1])"
      ],
      "metadata": {
        "id": "pTFidhY2r0Bn"
      },
      "execution_count": null,
      "outputs": []
    },
    {
      "cell_type": "code",
      "source": [
        "temp_df = pd.DataFrame({'Method': ['Basic NN (Adam)'], 'Accuracy': round(results_adam[1] * 100, 2)}, index=[2])\n",
        "results_on_val = pd.concat([results_on_val, temp_df])\n",
        "result_on_val = results_on_val[['Method', 'Accuracy']]\n",
        "result_on_val"
      ],
      "metadata": {
        "id": "xJ46_jAGokkf"
      },
      "execution_count": null,
      "outputs": []
    },
    {
      "cell_type": "code",
      "source": [
        "keras_models_2 = Sequential()"
      ],
      "metadata": {
        "id": "xJ_-VgI7rssO"
      },
      "execution_count": null,
      "outputs": []
    },
    {
      "cell_type": "code",
      "source": [
        "#Input Layer with 512 nodes\n",
        "keras_models_2.add(Dense (512, kernel_initializer='he_normal', input_shape = (1024,)))\n",
        "#Activation Function\n",
        "keras_models_2.add(Activation('relu'))\n",
        "\n",
        "#Hidden Layer 1\n",
        "keras_models_2.add(Dense(256, kernel_initializer='he_normal'))\n",
        "keras_models_2.add(Activation('relu'))\n",
        "\n",
        "#Hidden Layer 2\n",
        "keras_models_2.add(Dense(128, kernel_initializer='he_normal'))\n",
        "keras_models_2.add(Activation('relu'))\n",
        "\n",
        "#Hidden Layer 3\n",
        "keras_models_2.add(Dense(64, kernel_initializer='he_normal'))\n",
        "keras_models_2.add(Activation('relu'))\n",
        "\n",
        "#Hidden Layer 4\n",
        "keras_models_2.add(Dense(32, kernel_initializer='he_normal'))\n",
        "keras_models_2.add(Activation('relu'))\n",
        "\n",
        "#Output Layer with 10 nodes\n",
        "keras_models_2.add(Dense(10))\n",
        "#Here, we are using softmax function because we have multiclass classsification\n",
        "keras_models_2.add(Activation('softmax'))"
      ],
      "metadata": {
        "id": "ri-vEQv2uO98"
      },
      "execution_count": null,
      "outputs": []
    },
    {
      "cell_type": "code",
      "source": [
        "keras_models_2.summary()"
      ],
      "metadata": {
        "id": "VlXqdU1nvfD-"
      },
      "execution_count": null,
      "outputs": []
    },
    {
      "cell_type": "code",
      "source": [
        "SGD = optimizers.SGD(learning_rate = 0.001)\n",
        "keras_models_2.compile(optimizer = SGD, loss = 'categorical_crossentropy', metrics = ['accuracy'])"
      ],
      "metadata": {
        "id": "PBFRYjLgvkS8"
      },
      "execution_count": null,
      "outputs": []
    },
    {
      "cell_type": "code",
      "source": [
        "history_2 = keras_models.fit(x_train, y_train, validation_data = (x_val, y_val), batch_size = 200, epochs = 100, verbose = 1)"
      ],
      "metadata": {
        "id": "InIE0KFUOZDL"
      },
      "execution_count": null,
      "outputs": []
    },
    {
      "cell_type": "code",
      "source": [
        "results_2 = keras_models_2.evaluate(x_val, y_val)\n",
        "print('Validation accuracy using learning rate = 0.0001 (SGD) : ', results_2[1])"
      ],
      "metadata": {
        "id": "W4wt7hAyTbMI"
      },
      "execution_count": null,
      "outputs": []
    },
    {
      "cell_type": "code",
      "source": [
        "temp_df = pd.DataFrame({'Method': ['Basic NN (SGD)'], 'Accuracy': round(results_2[1] * 100, 2)}, index=[3])\n",
        "results_on_val = pd.concat([results_on_val, temp_df])\n",
        "result_on_val = results_on_val[['Method', 'Accuracy']]\n",
        "result_on_val"
      ],
      "metadata": {
        "id": "UIBLaurmU68A"
      },
      "execution_count": null,
      "outputs": []
    },
    {
      "cell_type": "markdown",
      "source": [
        "## Batch Normalisation"
      ],
      "metadata": {
        "id": "g22xJoqmWFr5"
      }
    },
    {
      "cell_type": "code",
      "source": [
        "keras_models_3 = Sequential()"
      ],
      "metadata": {
        "id": "_mMamTTcWJCa"
      },
      "execution_count": null,
      "outputs": []
    },
    {
      "cell_type": "code",
      "source": [
        "#Input Layer with 512 nodes\n",
        "keras_models_3.add(Dense (512, kernel_initializer='he_normal', input_shape = (1024,)))\n",
        "#Activation Function\n",
        "keras_models_3.add(Activation('relu'))\n",
        "\n",
        "#Hidden Layer 1\n",
        "keras_models_3.add(Dense(256, kernel_initializer='he_normal'))\n",
        "keras_models_3.add(Activation('relu'))\n",
        "\n",
        "#Hidden Layer 2\n",
        "keras_models_3.add(Dense(128, kernel_initializer='he_normal'))\n",
        "keras_models_3.add(Activation('relu'))\n",
        "\n",
        "#Hidden Layer 3\n",
        "keras_models_3.add(Dense(64, kernel_initializer='he_normal'))\n",
        "keras_models_3.add(Activation('relu'))\n",
        "\n",
        "#Hidden Layer 4\n",
        "keras_models_3.add(Dense(32, kernel_initializer='he_normal'))\n",
        "keras_models_3.add(Activation('relu'))\n",
        "\n",
        "#Output Layer with 10 nodes\n",
        "keras_models_3.add(Dense(10))\n",
        "#Here, we are using softmax function because we have multiclass classsification\n",
        "keras_models_3.add(Activation('softmax'))"
      ],
      "metadata": {
        "id": "V9uY_RgvWO5q"
      },
      "execution_count": null,
      "outputs": []
    }
  ]
}