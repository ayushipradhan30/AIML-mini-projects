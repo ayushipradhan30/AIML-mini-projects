{
  "nbformat": 4,
  "nbformat_minor": 0,
  "metadata": {
    "colab": {
      "provenance": [],
      "authorship_tag": "ABX9TyMpnPNejoYkfMB/sau8XmIe",
      "include_colab_link": true
    },
    "kernelspec": {
      "name": "python3",
      "display_name": "Python 3"
    },
    "language_info": {
      "name": "python"
    }
  },
  "cells": [
    {
      "cell_type": "markdown",
      "metadata": {
        "id": "view-in-github",
        "colab_type": "text"
      },
      "source": [
        "<a href=\"https://colab.research.google.com/github/ayushipradhan30/AIML-mini-projects/blob/main/DSA_in_python.ipynb\" target=\"_parent\"><img src=\"https://colab.research.google.com/assets/colab-badge.svg\" alt=\"Open In Colab\"/></a>"
      ]
    },
    {
      "cell_type": "code",
      "execution_count": null,
      "metadata": {
        "colab": {
          "base_uri": "https://localhost:8080/",
          "height": 34
        },
        "id": "b4oqn5ZMTiYA",
        "outputId": "1cc9d9e4-324a-4f7f-bace-e8d5e3dc479e"
      },
      "outputs": [
        {
          "output_type": "display_data",
          "data": {
            "text/plain": [
              "['1', '2', '3']"
            ]
          },
          "metadata": {}
        }
      ],
      "source": [
        "stack = []\n",
        "\n",
        "stack.append('1')\n",
        "stack.append('2')\n",
        "stack.append('3')\n",
        "\n",
        "display(stack)"
      ]
    },
    {
      "cell_type": "code",
      "source": [
        "stack.pop()\n",
        "stack.pop()\n",
        "stack.pop()\n",
        "#Empty list (pop will give error)\n",
        "stack.pop()"
      ],
      "metadata": {
        "colab": {
          "base_uri": "https://localhost:8080/",
          "height": 176
        },
        "id": "MtVJXD9sUxqI",
        "outputId": "53dd6beb-a817-4535-dcdf-00f1d8503e5d"
      },
      "execution_count": null,
      "outputs": [
        {
          "output_type": "error",
          "ename": "IndexError",
          "evalue": "pop from empty list",
          "traceback": [
            "\u001b[0;31m---------------------------------------------------------------------------\u001b[0m",
            "\u001b[0;31mIndexError\u001b[0m                                Traceback (most recent call last)",
            "\u001b[0;32m<ipython-input-3-39cdc536fc37>\u001b[0m in \u001b[0;36m<cell line: 5>\u001b[0;34m()\u001b[0m\n\u001b[1;32m      3\u001b[0m \u001b[0mstack\u001b[0m\u001b[0;34m.\u001b[0m\u001b[0mpop\u001b[0m\u001b[0;34m(\u001b[0m\u001b[0;34m)\u001b[0m\u001b[0;34m\u001b[0m\u001b[0;34m\u001b[0m\u001b[0m\n\u001b[1;32m      4\u001b[0m \u001b[0;31m#Empty list (pop will give error)\u001b[0m\u001b[0;34m\u001b[0m\u001b[0;34m\u001b[0m\u001b[0m\n\u001b[0;32m----> 5\u001b[0;31m \u001b[0mstack\u001b[0m\u001b[0;34m.\u001b[0m\u001b[0mpop\u001b[0m\u001b[0;34m(\u001b[0m\u001b[0;34m)\u001b[0m\u001b[0;34m\u001b[0m\u001b[0;34m\u001b[0m\u001b[0m\n\u001b[0m",
            "\u001b[0;31mIndexError\u001b[0m: pop from empty list"
          ]
        }
      ]
    },
    {
      "cell_type": "markdown",
      "source": [
        "## Deque"
      ],
      "metadata": {
        "id": "lXf6h-GdVH0C"
      }
    },
    {
      "cell_type": "code",
      "source": [
        "from collections import deque\n",
        "\n",
        "stack = deque()\n",
        "\n",
        "stack.append('1')\n",
        "stack.append('2')\n",
        "stack.append('3')\n",
        "\n",
        "print(stack)\n",
        "\n",
        "print(stack.pop())\n",
        "print(stack.pop())\n",
        "print(stack.pop())\n",
        "\n",
        "print(stack)"
      ],
      "metadata": {
        "colab": {
          "base_uri": "https://localhost:8080/"
        },
        "id": "uExWdVtuU5Cp",
        "outputId": "9c88370e-f402-4cfc-986d-7e04db3a2f90"
      },
      "execution_count": null,
      "outputs": [
        {
          "output_type": "stream",
          "name": "stdout",
          "text": [
            "deque(['1', '2', '3'])\n",
            "3\n",
            "2\n",
            "1\n",
            "deque([])\n"
          ]
        }
      ]
    },
    {
      "cell_type": "markdown",
      "source": [
        "## Queue"
      ],
      "metadata": {
        "id": "D8ok3TdIwBfl"
      }
    },
    {
      "cell_type": "code",
      "source": [
        "from queue import LifoQueue\n",
        "\n",
        "q = LifoQueue(maxsize = 5)\n",
        "print(q.qsize())\n",
        "\n",
        "# put() function is used to push  element\n",
        "q.put('1')\n",
        "q.put('2')\n",
        "q.put('3')\n",
        "\n",
        "print(q)\n",
        "print(q.full())\n",
        "# To pop the element we used get() function\n",
        "print(q.get())\n",
        "print(q.get())\n",
        "print(q.get())\n",
        "\n",
        "print(q)\n",
        "\n",
        "print(q.empty())"
      ],
      "metadata": {
        "colab": {
          "base_uri": "https://localhost:8080/"
        },
        "id": "jEoIreV1u38D",
        "outputId": "4f9cc5db-347a-4b6d-f397-467342a23b06"
      },
      "execution_count": null,
      "outputs": [
        {
          "output_type": "stream",
          "name": "stdout",
          "text": [
            "0\n",
            "<queue.LifoQueue object at 0x7c1c0c1c6800>\n",
            "False\n",
            "3\n",
            "2\n",
            "1\n",
            "<queue.LifoQueue object at 0x7c1c0c1c6800>\n",
            "True\n"
          ]
        }
      ]
    },
    {
      "cell_type": "markdown",
      "source": [
        "## Linked List"
      ],
      "metadata": {
        "id": "t5BfZa613-qi"
      }
    },
    {
      "cell_type": "markdown",
      "source": [
        "Singly Linked List"
      ],
      "metadata": {
        "id": "m-08F8HY4xrC"
      }
    },
    {
      "cell_type": "code",
      "source": [
        "\n",
        "class Node:\n",
        "  def __init__(self, data):\n",
        "    self.data = data\n",
        "    self.next = None\n",
        "\n",
        "node1 = Node(1)\n",
        "node2 = Node(2)\n",
        "node3 = Node(3)\n",
        "node4 = Node(4)\n",
        "\n",
        "node1.next = node2\n",
        "node2.next = node3\n",
        "node3.next = node4\n",
        "node4.next = None\n",
        "\n",
        "currentNode = node1\n",
        "while currentNode:\n",
        "  print(currentNode.data, end = ' -> ')\n",
        "  currentNode = currentNode.next\n",
        "print(\"Null\")"
      ],
      "metadata": {
        "colab": {
          "base_uri": "https://localhost:8080/"
        },
        "id": "R-yF2H8BwdpW",
        "outputId": "00c84a40-f61c-4037-93f8-159b061335d3"
      },
      "execution_count": null,
      "outputs": [
        {
          "output_type": "stream",
          "name": "stdout",
          "text": [
            "1 -> 2 -> 3 -> 4 -> Null\n"
          ]
        }
      ]
    },
    {
      "cell_type": "markdown",
      "source": [
        "# Doubly Linked List"
      ],
      "metadata": {
        "id": "ObsXEPIu6baQ"
      }
    },
    {
      "cell_type": "code",
      "source": [
        "class Node:\n",
        "  def __init__(self, data):\n",
        "    self.data = data\n",
        "    self.next = None\n",
        "    self.prev = None\n",
        "\n",
        "node1 = Node(1)\n",
        "node2 = Node(2)\n",
        "node3 = Node(3)\n",
        "node4 = Node(4)\n",
        "\n",
        "node1.next = node2\n",
        "\n",
        "node2.prev = node1\n",
        "node2.next = node3\n",
        "\n",
        "node3.prev = node2\n",
        "node3.next = node4\n",
        "\n",
        "node4.prev = node3\n",
        "node4.next = None\n",
        "\n",
        "#Traversing Forward\n",
        "currentNode = node1\n",
        "while currentNode:\n",
        "  print(currentNode.data, end = ' -> ')\n",
        "  currentNode = currentNode.next\n",
        "print(\"Null\")\n",
        "\n",
        "#Backward traversing\n",
        "currentNode = node4\n",
        "while currentNode:\n",
        "  print(currentNode.data, end = ' -> ')\n",
        "  currentNode = currentNode.prev\n",
        "print(\"Null\")"
      ],
      "metadata": {
        "colab": {
          "base_uri": "https://localhost:8080/"
        },
        "id": "Mbp40xMN6SvJ",
        "outputId": "83ab8ce1-4fa8-4672-a6f7-fb67e77c26f7"
      },
      "execution_count": null,
      "outputs": [
        {
          "output_type": "stream",
          "name": "stdout",
          "text": [
            "1 -> 2 -> 3 -> 4 -> Null\n",
            "4 -> 3 -> 2 -> 1 -> Null\n"
          ]
        }
      ]
    },
    {
      "cell_type": "markdown",
      "source": [
        "## Circular Singly Linked List"
      ],
      "metadata": {
        "id": "WkniwYNICd70"
      }
    },
    {
      "cell_type": "code",
      "source": [
        "class Node:\n",
        "  def __init__(self, data):\n",
        "    self.data = data\n",
        "    self.next = None\n",
        "\n",
        "node1 = Node(1)\n",
        "node2 = Node(2)\n",
        "node3 = Node(3)\n",
        "node4 = Node(4)\n",
        "\n",
        "node1.next = node2\n",
        "node2.next = node3\n",
        "node3.next = node4\n",
        "node4.next = node1\n",
        "\n",
        "currentNode = node1\n",
        "startnode = node1\n",
        "print(currentNode.data, end = ' -> ')\n",
        "currentNode = currentNode.next\n",
        "\n",
        "while currentNode != startnode:\n",
        "  print(currentNode.data, end = ' -> ')\n",
        "  currentNode = currentNode.next"
      ],
      "metadata": {
        "colab": {
          "base_uri": "https://localhost:8080/"
        },
        "id": "gQ34k9DL-fpK",
        "outputId": "de17abb2-ef5d-4186-847a-f7c304dbc1f6"
      },
      "execution_count": null,
      "outputs": [
        {
          "output_type": "stream",
          "name": "stdout",
          "text": [
            "1 -> 2 -> 3 -> 4 -> "
          ]
        }
      ]
    },
    {
      "cell_type": "code",
      "source": [
        "class Node:\n",
        "  def __init__(self, data):\n",
        "    self.data = data\n",
        "    self.next = None\n",
        "    self.prev = None\n",
        "\n",
        "node1 = Node(1)\n",
        "node2 = Node(2)\n",
        "node3 = Node(3)\n",
        "node4 = Node(4)\n",
        "\n",
        "node1.next = node2\n",
        "node1.prev = node4\n",
        "\n",
        "node2.prev = node1\n",
        "node2.next = node3\n",
        "\n",
        "node3.prev = node2\n",
        "node3.next = node4\n",
        "\n",
        "node4.prev = node3\n",
        "node4.next = node1\n",
        "\n",
        "#Traversing Forward\n",
        "startnode = node1\n",
        "currentNode = node1\n",
        "print(currentNode.data, end = ' -> ')\n",
        "currentNode = currentNode.next\n",
        "\n",
        "while currentNode != startnode:\n",
        "  print(currentNode.data, end = ' -> ')\n",
        "  currentNode = currentNode.next\n",
        "\n",
        "#Backward traversing\n",
        "currentNode = node4\n",
        "startnode = node4\n",
        "print(currentNode.data, end = ' -> ')\n",
        "currentNode = currentNode.prev\n",
        "\n",
        "while currentNode != startnode:\n",
        "  print(currentNode.data, end = ' -> ')\n",
        "  currentNode = currentNode.prev"
      ],
      "metadata": {
        "colab": {
          "base_uri": "https://localhost:8080/"
        },
        "id": "xEbdpcjHhKAe",
        "outputId": "df599d73-516c-45b4-c05a-a8c0a8bcf04f"
      },
      "execution_count": null,
      "outputs": [
        {
          "output_type": "stream",
          "name": "stdout",
          "text": [
            "1 -> 2 -> 3 -> 4 -> 4 -> 3 -> 2 -> 1 -> "
          ]
        }
      ]
    },
    {
      "cell_type": "code",
      "source": [
        "class Node:\n",
        "  def __init__(self, data):\n",
        "    self.data = data\n",
        "    self .next = None\n",
        "\n",
        "def traverse(head):\n",
        "    currentNode = head\n",
        "    while currentNode:\n",
        "        print(currentNode.data, end = '->')\n",
        "        currentNode = currentNode.next\n",
        "    print(\"Null\")\n",
        "\n",
        "def insertion(head, newnode, pos):\n",
        "    if pos == 1:\n",
        "        newnode.next = head\n",
        "        return newnode\n",
        "    currentNode = head\n",
        "    for i in range(pos - 2):\n",
        "        if currentNode is None:\n",
        "            break\n",
        "        currentNode = currentNode.next\n",
        "    newnode.next = currentNode.next\n",
        "    currentNode.next = newnode\n",
        "    return head\n",
        "\n",
        "node1 = Node(1)\n",
        "node2 = Node(2)\n",
        "node3 = Node(3)\n",
        "node4 = Node(4)\n",
        "\n",
        "node1.next = node2\n",
        "node2.next = node3\n",
        "node3.next = node4\n",
        "\n",
        "print(\"Original list: \\n\")\n",
        "traverse(node1)\n",
        "\n",
        "newnode = Node(5)\n",
        "node5 = insertion(node1, newnode, 2)\n",
        "\n",
        "traverse(node1)"
      ],
      "metadata": {
        "id": "XMP6cGvTiS-e",
        "colab": {
          "base_uri": "https://localhost:8080/"
        },
        "outputId": "7276f3b6-0848-434b-f5c9-1597f7affdd4"
      },
      "execution_count": 19,
      "outputs": [
        {
          "output_type": "stream",
          "name": "stdout",
          "text": [
            "Original list: \n",
            "\n",
            "1->2->3->4->Null\n",
            "1->5->2->3->4->Null\n"
          ]
        }
      ]
    },
    {
      "cell_type": "code",
      "source": [],
      "metadata": {
        "id": "Eot4onZtlcUy"
      },
      "execution_count": null,
      "outputs": []
    }
  ]
}