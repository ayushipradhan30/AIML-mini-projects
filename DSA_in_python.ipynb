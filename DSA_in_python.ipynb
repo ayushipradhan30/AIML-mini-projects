{
  "nbformat": 4,
  "nbformat_minor": 0,
  "metadata": {
    "colab": {
      "provenance": [],
      "authorship_tag": "ABX9TyNh3PGHjTH720/BJKImuhTL",
      "include_colab_link": true
    },
    "kernelspec": {
      "name": "python3",
      "display_name": "Python 3"
    },
    "language_info": {
      "name": "python"
    }
  },
  "cells": [
    {
      "cell_type": "markdown",
      "metadata": {
        "id": "view-in-github",
        "colab_type": "text"
      },
      "source": [
        "<a href=\"https://colab.research.google.com/github/ayushipradhan30/AIML-mini-projects/blob/main/DSA_in_python.ipynb\" target=\"_parent\"><img src=\"https://colab.research.google.com/assets/colab-badge.svg\" alt=\"Open In Colab\"/></a>"
      ]
    },
    {
      "cell_type": "code",
      "execution_count": 1,
      "metadata": {
        "colab": {
          "base_uri": "https://localhost:8080/",
          "height": 34
        },
        "id": "b4oqn5ZMTiYA",
        "outputId": "ef8116b2-4a8d-4ea9-a44a-47dae94c866f"
      },
      "outputs": [
        {
          "output_type": "display_data",
          "data": {
            "text/plain": [
              "['1', '2', '3']"
            ]
          },
          "metadata": {}
        }
      ],
      "source": [
        "stack = []\n",
        "\n",
        "stack.append('1')\n",
        "stack.append('2')\n",
        "stack.append('3')\n",
        "\n",
        "display(stack)"
      ]
    },
    {
      "cell_type": "code",
      "source": [
        "stack.pop()\n",
        "stack.pop()\n",
        "stack.pop()\n",
        "#Empty list (pop will give error)\n",
        "stack.pop()"
      ],
      "metadata": {
        "colab": {
          "base_uri": "https://localhost:8080/",
          "height": 211
        },
        "id": "MtVJXD9sUxqI",
        "outputId": "b8ec6242-98b5-4f7d-ed36-2ba1a365be0b"
      },
      "execution_count": 3,
      "outputs": [
        {
          "output_type": "error",
          "ename": "IndexError",
          "evalue": "pop from empty list",
          "traceback": [
            "\u001b[0;31m---------------------------------------------------------------------------\u001b[0m",
            "\u001b[0;31mIndexError\u001b[0m                                Traceback (most recent call last)",
            "\u001b[0;32m<ipython-input-3-39cdc536fc37>\u001b[0m in \u001b[0;36m<cell line: 1>\u001b[0;34m()\u001b[0m\n\u001b[0;32m----> 1\u001b[0;31m \u001b[0mstack\u001b[0m\u001b[0;34m.\u001b[0m\u001b[0mpop\u001b[0m\u001b[0;34m(\u001b[0m\u001b[0;34m)\u001b[0m\u001b[0;34m\u001b[0m\u001b[0;34m\u001b[0m\u001b[0m\n\u001b[0m\u001b[1;32m      2\u001b[0m \u001b[0mstack\u001b[0m\u001b[0;34m.\u001b[0m\u001b[0mpop\u001b[0m\u001b[0;34m(\u001b[0m\u001b[0;34m)\u001b[0m\u001b[0;34m\u001b[0m\u001b[0;34m\u001b[0m\u001b[0m\n\u001b[1;32m      3\u001b[0m \u001b[0mstack\u001b[0m\u001b[0;34m.\u001b[0m\u001b[0mpop\u001b[0m\u001b[0;34m(\u001b[0m\u001b[0;34m)\u001b[0m\u001b[0;34m\u001b[0m\u001b[0;34m\u001b[0m\u001b[0m\n\u001b[1;32m      4\u001b[0m \u001b[0;31m#Empty list (pop will give error)\u001b[0m\u001b[0;34m\u001b[0m\u001b[0;34m\u001b[0m\u001b[0m\n\u001b[1;32m      5\u001b[0m \u001b[0mstack\u001b[0m\u001b[0;34m.\u001b[0m\u001b[0mpop\u001b[0m\u001b[0;34m(\u001b[0m\u001b[0;34m)\u001b[0m\u001b[0;34m\u001b[0m\u001b[0;34m\u001b[0m\u001b[0m\n",
            "\u001b[0;31mIndexError\u001b[0m: pop from empty list"
          ]
        }
      ]
    },
    {
      "cell_type": "markdown",
      "source": [
        "## Deque"
      ],
      "metadata": {
        "id": "lXf6h-GdVH0C"
      }
    },
    {
      "cell_type": "code",
      "source": [
        "from collections import deque\n",
        "\n",
        "stack = deque()\n",
        "\n",
        "stack.append('1')\n",
        "stack.append('2')\n",
        "stack.append('3')\n",
        "\n",
        "print(stack)\n",
        "\n",
        "print(stack.pop())\n",
        "print(stack.pop())\n",
        "print(stack.pop())\n",
        "\n",
        "print(stack)"
      ],
      "metadata": {
        "colab": {
          "base_uri": "https://localhost:8080/"
        },
        "id": "uExWdVtuU5Cp",
        "outputId": "9e07def0-c59b-4ab1-f63b-e776eac5e27a"
      },
      "execution_count": 8,
      "outputs": [
        {
          "output_type": "stream",
          "name": "stdout",
          "text": [
            "deque(['1', '2', '3'])\n",
            "3\n",
            "2\n",
            "1\n",
            "deque([])\n"
          ]
        }
      ]
    },
    {
      "cell_type": "markdown",
      "source": [
        "## Queue"
      ],
      "metadata": {
        "id": "D8ok3TdIwBfl"
      }
    },
    {
      "cell_type": "code",
      "source": [
        "from queue import LifoQueue\n",
        "\n",
        "q = LifoQueue(maxsize = 5)\n",
        "print(q.qsize())\n",
        "\n",
        "# put() function is used to push  element\n",
        "q.put('1')\n",
        "q.put('2')\n",
        "q.put('3')\n",
        "\n",
        "print(q)\n",
        "print(q.full())\n",
        "# To pop the element we used get() function\n",
        "print(q.get())\n",
        "print(q.get())\n",
        "print(q.get())\n",
        "\n",
        "print(q)\n",
        "\n",
        "print(q.empty())"
      ],
      "metadata": {
        "colab": {
          "base_uri": "https://localhost:8080/"
        },
        "id": "jEoIreV1u38D",
        "outputId": "6a7c3802-8c77-4f98-a69d-f647dda7e601"
      },
      "execution_count": 13,
      "outputs": [
        {
          "output_type": "stream",
          "name": "stdout",
          "text": [
            "0\n",
            "<queue.LifoQueue object at 0x799a751f1240>\n",
            "False\n",
            "3\n",
            "2\n",
            "1\n",
            "<queue.LifoQueue object at 0x799a751f1240>\n",
            "True\n"
          ]
        }
      ]
    },
    {
      "cell_type": "markdown",
      "source": [
        "## Linked List"
      ],
      "metadata": {
        "id": "t5BfZa613-qi"
      }
    },
    {
      "cell_type": "markdown",
      "source": [
        "Singly Linked List"
      ],
      "metadata": {
        "id": "m-08F8HY4xrC"
      }
    },
    {
      "cell_type": "code",
      "source": [
        "class Node:\n",
        "  def __init__(self, data):\n",
        "    self.data = data\n",
        "    self.next = None\n",
        "\n",
        "node1 = Node(1)\n",
        "node2 = Node(2)\n",
        "node3 = Node(3)\n",
        "node4 = Node(4)\n",
        "\n",
        "node1.next = node2\n",
        "node2.next = node3\n",
        "node3.next = node4\n",
        "node4.next = None\n",
        "\n",
        "currentNode = node1\n",
        "while currentNode:\n",
        "  print(currentNode.data, end = ' -> ')\n",
        "  currentNode = currentNode.next\n",
        "print(\"Null\")"
      ],
      "metadata": {
        "colab": {
          "base_uri": "https://localhost:8080/"
        },
        "id": "R-yF2H8BwdpW",
        "outputId": "e9b5c647-4308-4f56-a4b9-47acb7ce75be"
      },
      "execution_count": 19,
      "outputs": [
        {
          "output_type": "stream",
          "name": "stdout",
          "text": [
            "1 -> 2 -> 3 -> 4 -> Null\n"
          ]
        }
      ]
    },
    {
      "cell_type": "markdown",
      "source": [
        "# Doubly Linked List"
      ],
      "metadata": {
        "id": "ObsXEPIu6baQ"
      }
    },
    {
      "cell_type": "code",
      "source": [
        "class Node:\n",
        "  def __init__(self, data):\n",
        "    self.data = data\n",
        "    self.next = None\n",
        "    self.prev = None\n",
        "\n",
        "node1 = Node(1)\n",
        "node2 = Node(2)\n",
        "node3 = Node(3)\n",
        "node4 = Node(4)\n",
        "\n",
        "node1.next = node2\n",
        "\n",
        "node2.prev = node1\n",
        "node2.next = node3\n",
        "\n",
        "node3.prev = node2\n",
        "node3.next = node4\n",
        "\n",
        "node4.prev = node3\n",
        "node4.next = None\n",
        "\n",
        "#Traversing Forward\n",
        "currentNode = node1\n",
        "while currentNode:\n",
        "  print(currentNode.data, end = ' -> ')\n",
        "  currentNode = currentNode.next\n",
        "print(\"Null\")\n",
        "\n",
        "#Backward traversing\n",
        "currentNode = node4\n",
        "while currentNode:\n",
        "  print(currentNode.data, end = ' -> ')\n",
        "  currentNode = currentNode.prev\n",
        "print(\"Null\")"
      ],
      "metadata": {
        "colab": {
          "base_uri": "https://localhost:8080/"
        },
        "id": "Mbp40xMN6SvJ",
        "outputId": "36c0be62-08c4-4979-d106-2c9a16838f13"
      },
      "execution_count": 20,
      "outputs": [
        {
          "output_type": "stream",
          "name": "stdout",
          "text": [
            "1 -> 2 -> 3 -> 4 -> Null\n",
            "4 -> 3 -> 2 -> 1 -> Null\n"
          ]
        }
      ]
    },
    {
      "cell_type": "markdown",
      "source": [
        "## Circular Singly Linked List"
      ],
      "metadata": {
        "id": "WkniwYNICd70"
      }
    },
    {
      "cell_type": "code",
      "source": [
        "class Node:\n",
        "  def __init__(self, data):\n",
        "    self.data = data\n",
        "    self.next = None\n",
        "\n",
        "node1 = Node(1)\n",
        "node2 = Node(2)\n",
        "node3 = Node(3)\n",
        "node4 = Node(4)\n",
        "\n",
        "node1.next = node2\n",
        "node2.next = node3\n",
        "node3.next = node4\n",
        "node4.next = node1\n",
        "\n",
        "currentNode = node1\n",
        "while currentNode:\n",
        "  print(currentNode.data, end = ' -> ')\n",
        "  currentNode = currentNode.next\n",
        "print(\"Null\")"
      ],
      "metadata": {
        "id": "gQ34k9DL-fpK"
      },
      "execution_count": null,
      "outputs": []
    }
  ]
}