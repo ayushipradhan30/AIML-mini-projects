{
  "nbformat": 4,
  "nbformat_minor": 0,
  "metadata": {
    "colab": {
      "provenance": [],
      "authorship_tag": "ABX9TyMXIKqvl41RTeAH9m7wOTIQ",
      "include_colab_link": true
    },
    "kernelspec": {
      "name": "python3",
      "display_name": "Python 3"
    },
    "language_info": {
      "name": "python"
    }
  },
  "cells": [
    {
      "cell_type": "markdown",
      "metadata": {
        "id": "view-in-github",
        "colab_type": "text"
      },
      "source": [
        "<a href=\"https://colab.research.google.com/github/ayushipradhan30/AIML-mini-projects/blob/main/DSA_in_python.ipynb\" target=\"_parent\"><img src=\"https://colab.research.google.com/assets/colab-badge.svg\" alt=\"Open In Colab\"/></a>"
      ]
    },
    {
      "cell_type": "code",
      "execution_count": 1,
      "metadata": {
        "colab": {
          "base_uri": "https://localhost:8080/",
          "height": 34
        },
        "id": "b4oqn5ZMTiYA",
        "outputId": "f3592dbd-5126-4129-b173-a8f4569c9fe7"
      },
      "outputs": [
        {
          "output_type": "display_data",
          "data": {
            "text/plain": [
              "['1', '2', '3']"
            ]
          },
          "metadata": {}
        }
      ],
      "source": [
        "stack = []\n",
        "\n",
        "stack.append('1')\n",
        "stack.append('2')\n",
        "stack.append('3')\n",
        "\n",
        "display(stack)"
      ]
    },
    {
      "cell_type": "code",
      "source": [
        "stack.pop()\n",
        "stack.pop()\n",
        "stack.pop()\n",
        "#Empty list (pop will give error)\n",
        "stack.pop()"
      ],
      "metadata": {
        "colab": {
          "base_uri": "https://localhost:8080/",
          "height": 176
        },
        "id": "MtVJXD9sUxqI",
        "outputId": "0629e816-c70d-4064-8fe5-d60206d1f17b"
      },
      "execution_count": 2,
      "outputs": [
        {
          "output_type": "error",
          "ename": "IndexError",
          "evalue": "pop from empty list",
          "traceback": [
            "\u001b[0;31m---------------------------------------------------------------------------\u001b[0m",
            "\u001b[0;31mIndexError\u001b[0m                                Traceback (most recent call last)",
            "\u001b[0;32m<ipython-input-2-39cdc536fc37>\u001b[0m in \u001b[0;36m<cell line: 5>\u001b[0;34m()\u001b[0m\n\u001b[1;32m      3\u001b[0m \u001b[0mstack\u001b[0m\u001b[0;34m.\u001b[0m\u001b[0mpop\u001b[0m\u001b[0;34m(\u001b[0m\u001b[0;34m)\u001b[0m\u001b[0;34m\u001b[0m\u001b[0;34m\u001b[0m\u001b[0m\n\u001b[1;32m      4\u001b[0m \u001b[0;31m#Empty list (pop will give error)\u001b[0m\u001b[0;34m\u001b[0m\u001b[0;34m\u001b[0m\u001b[0m\n\u001b[0;32m----> 5\u001b[0;31m \u001b[0mstack\u001b[0m\u001b[0;34m.\u001b[0m\u001b[0mpop\u001b[0m\u001b[0;34m(\u001b[0m\u001b[0;34m)\u001b[0m\u001b[0;34m\u001b[0m\u001b[0;34m\u001b[0m\u001b[0m\n\u001b[0m",
            "\u001b[0;31mIndexError\u001b[0m: pop from empty list"
          ]
        }
      ]
    },
    {
      "cell_type": "markdown",
      "source": [
        "## Deque"
      ],
      "metadata": {
        "id": "lXf6h-GdVH0C"
      }
    },
    {
      "cell_type": "code",
      "source": [
        "from collections import deque\n",
        "\n",
        "stack = deque()\n",
        "\n",
        "stack.append('1')\n",
        "stack.append('2')\n",
        "stack.append('3')\n",
        "\n",
        "print(stack)\n",
        "\n",
        "print(stack.pop())\n",
        "print(stack.pop())\n",
        "print(stack.pop())\n",
        "\n",
        "print(stack)"
      ],
      "metadata": {
        "colab": {
          "base_uri": "https://localhost:8080/"
        },
        "id": "uExWdVtuU5Cp",
        "outputId": "d55a12cc-58fc-4be6-8440-f0df34a48c43"
      },
      "execution_count": 4,
      "outputs": [
        {
          "output_type": "stream",
          "name": "stdout",
          "text": [
            "deque(['1', '2', '3'])\n",
            "3\n",
            "2\n",
            "1\n",
            "deque([])\n"
          ]
        }
      ]
    },
    {
      "cell_type": "markdown",
      "source": [
        "## Queue"
      ],
      "metadata": {
        "id": "D8ok3TdIwBfl"
      }
    },
    {
      "cell_type": "code",
      "source": [
        "from queue import LifoQueue\n",
        "\n",
        "q = LifoQueue(maxsize = 5)\n",
        "print(q.qsize())\n",
        "\n",
        "# put() function is used to push  element\n",
        "q.put('1')\n",
        "q.put('2')\n",
        "q.put('3')\n",
        "\n",
        "print(q)\n",
        "print(q.full())\n",
        "# To pop the element we used get() function\n",
        "print(q.get())\n",
        "print(q.get())\n",
        "print(q.get())\n",
        "\n",
        "print(q)\n",
        "\n",
        "print(q.empty())"
      ],
      "metadata": {
        "colab": {
          "base_uri": "https://localhost:8080/"
        },
        "id": "jEoIreV1u38D",
        "outputId": "b5400efe-2259-472e-d6ab-43395109bd06"
      },
      "execution_count": 5,
      "outputs": [
        {
          "output_type": "stream",
          "name": "stdout",
          "text": [
            "0\n",
            "<queue.LifoQueue object at 0x7eabae91ed10>\n",
            "False\n",
            "3\n",
            "2\n",
            "1\n",
            "<queue.LifoQueue object at 0x7eabae91ed10>\n",
            "True\n"
          ]
        }
      ]
    },
    {
      "cell_type": "markdown",
      "source": [
        "## Linked List"
      ],
      "metadata": {
        "id": "t5BfZa613-qi"
      }
    },
    {
      "cell_type": "markdown",
      "source": [
        "Singly Linked List"
      ],
      "metadata": {
        "id": "m-08F8HY4xrC"
      }
    },
    {
      "cell_type": "code",
      "source": [
        "\n",
        "class Node:\n",
        "  def __init__(self, data):\n",
        "    self.data = data\n",
        "    self.next = None\n",
        "\n",
        "node1 = Node(1)\n",
        "node2 = Node(2)\n",
        "node3 = Node(3)\n",
        "node4 = Node(4)\n",
        "\n",
        "node1.next = node2\n",
        "node2.next = node3\n",
        "node3.next = node4\n",
        "node4.next = None\n",
        "\n",
        "currentNode = node1\n",
        "while currentNode:\n",
        "  print(currentNode.data, end = ' -> ')\n",
        "  currentNode = currentNode.next\n",
        "print(\"Null\")"
      ],
      "metadata": {
        "colab": {
          "base_uri": "https://localhost:8080/"
        },
        "id": "R-yF2H8BwdpW",
        "outputId": "3c96230f-84fb-4e8e-fc5f-0ee7584fd889"
      },
      "execution_count": 6,
      "outputs": [
        {
          "output_type": "stream",
          "name": "stdout",
          "text": [
            "1 -> 2 -> 3 -> 4 -> Null\n"
          ]
        }
      ]
    },
    {
      "cell_type": "markdown",
      "source": [
        "# Doubly Linked List"
      ],
      "metadata": {
        "id": "ObsXEPIu6baQ"
      }
    },
    {
      "cell_type": "code",
      "source": [
        "class Node:\n",
        "  def __init__(self, data):\n",
        "    self.data = data\n",
        "    self.next = None\n",
        "    self.prev = None\n",
        "\n",
        "node1 = Node(1)\n",
        "node2 = Node(2)\n",
        "node3 = Node(3)\n",
        "node4 = Node(4)\n",
        "\n",
        "node1.next = node2\n",
        "\n",
        "node2.prev = node1\n",
        "node2.next = node3\n",
        "\n",
        "node3.prev = node2\n",
        "node3.next = node4\n",
        "\n",
        "node4.prev = node3\n",
        "node4.next = None\n",
        "\n",
        "#Traversing Forward\n",
        "currentNode = node1\n",
        "while currentNode:\n",
        "  print(currentNode.data, end = ' -> ')\n",
        "  currentNode = currentNode.next\n",
        "print(\"Null\")\n",
        "\n",
        "#Backward traversing\n",
        "currentNode = node4\n",
        "while currentNode:\n",
        "  print(currentNode.data, end = ' -> ')\n",
        "  currentNode = currentNode.prev\n",
        "print(\"Null\")"
      ],
      "metadata": {
        "colab": {
          "base_uri": "https://localhost:8080/"
        },
        "id": "Mbp40xMN6SvJ",
        "outputId": "b8c4ef1f-36d6-4994-dee2-a6199ab53952"
      },
      "execution_count": 7,
      "outputs": [
        {
          "output_type": "stream",
          "name": "stdout",
          "text": [
            "1 -> 2 -> 3 -> 4 -> Null\n",
            "4 -> 3 -> 2 -> 1 -> Null\n"
          ]
        }
      ]
    },
    {
      "cell_type": "markdown",
      "source": [
        "## Circular Singly Linked List"
      ],
      "metadata": {
        "id": "WkniwYNICd70"
      }
    },
    {
      "cell_type": "code",
      "source": [
        "class Node:\n",
        "  def __init__(self, data):\n",
        "    self.data = data\n",
        "    self.next = None\n",
        "\n",
        "node1 = Node(1)\n",
        "node2 = Node(2)\n",
        "node3 = Node(3)\n",
        "node4 = Node(4)\n",
        "\n",
        "node1.next = node2\n",
        "node2.next = node3\n",
        "node3.next = node4\n",
        "node4.next = node1\n",
        "\n",
        "currentNode = node1\n",
        "startnode = node1\n",
        "print(currentNode.data, end = ' -> ')\n",
        "currentNode = currentNode.next\n",
        "\n",
        "while currentNode != startnode:\n",
        "  print(currentNode.data, end = ' -> ')\n",
        "  currentNode = currentNode.next"
      ],
      "metadata": {
        "colab": {
          "base_uri": "https://localhost:8080/"
        },
        "id": "gQ34k9DL-fpK",
        "outputId": "07c4f6f1-b2e1-4e2e-d32f-bcc1e736a9d6"
      },
      "execution_count": 8,
      "outputs": [
        {
          "output_type": "stream",
          "name": "stdout",
          "text": [
            "1 -> 2 -> 3 -> 4 -> "
          ]
        }
      ]
    },
    {
      "cell_type": "markdown",
      "source": [
        "# Traversal"
      ],
      "metadata": {
        "id": "UQ8BQwDU3EYR"
      }
    },
    {
      "cell_type": "code",
      "source": [
        "class Node:\n",
        "  def __init__(self, data):\n",
        "    self.data = data\n",
        "    self.next = None\n",
        "    self.prev = None\n",
        "\n",
        "node1 = Node(1)\n",
        "node2 = Node(2)\n",
        "node3 = Node(3)\n",
        "node4 = Node(4)\n",
        "\n",
        "node1.next = node2\n",
        "node1.prev = node4\n",
        "\n",
        "node2.prev = node1\n",
        "node2.next = node3\n",
        "\n",
        "node3.prev = node2\n",
        "node3.next = node4\n",
        "\n",
        "node4.prev = node3\n",
        "node4.next = node1\n",
        "\n",
        "#Traversing Forward\n",
        "startnode = node1\n",
        "currentNode = node1\n",
        "print(currentNode.data, end = ' -> ')\n",
        "currentNode = currentNode.next\n",
        "\n",
        "while currentNode != startnode:\n",
        "  print(currentNode.data, end = ' -> ')\n",
        "  currentNode = currentNode.next\n",
        "\n",
        "#Backward traversing\n",
        "currentNode = node4\n",
        "startnode = node4\n",
        "print(currentNode.data, end = ' -> ')\n",
        "currentNode = currentNode.prev\n",
        "\n",
        "while currentNode != startnode:\n",
        "  print(currentNode.data, end = ' -> ')\n",
        "  currentNode = currentNode.prev"
      ],
      "metadata": {
        "colab": {
          "base_uri": "https://localhost:8080/"
        },
        "id": "xEbdpcjHhKAe",
        "outputId": "62dafc2a-faba-4dfa-913c-d893b7ef85a1"
      },
      "execution_count": 9,
      "outputs": [
        {
          "output_type": "stream",
          "name": "stdout",
          "text": [
            "1 -> 2 -> 3 -> 4 -> 4 -> 3 -> 2 -> 1 -> "
          ]
        }
      ]
    },
    {
      "cell_type": "markdown",
      "source": [
        "# Insertion"
      ],
      "metadata": {
        "id": "rig2N01Y3KSy"
      }
    },
    {
      "cell_type": "code",
      "source": [
        "class Node:\n",
        "  def __init__(self, data):\n",
        "    self.data = data\n",
        "    self .next = None\n",
        "\n",
        "def traverse(head):\n",
        "    currentNode = head\n",
        "    while currentNode:\n",
        "        print(currentNode.data, end = '->')\n",
        "        currentNode = currentNode.next\n",
        "    print(\"Null\")\n",
        "\n",
        "def insertion(head, newnode, pos):\n",
        "    if pos == 1:\n",
        "        newnode.next = head\n",
        "        return newnode\n",
        "    currentNode = head\n",
        "    for i in range(pos - 2):\n",
        "        if currentNode is None:\n",
        "            break\n",
        "        currentNode = currentNode.next\n",
        "    newnode.next = currentNode.next\n",
        "    currentNode.next = newnode\n",
        "    return head\n",
        "\n",
        "node1 = Node(1)\n",
        "node2 = Node(2)\n",
        "node3 = Node(3)\n",
        "node4 = Node(4)\n",
        "\n",
        "node1.next = node2\n",
        "node2.next = node3\n",
        "node3.next = node4\n",
        "\n",
        "print(\"Original list: \\n\")\n",
        "traverse(node1)\n",
        "\n",
        "newnode = Node(5)\n",
        "node5 = insertion(node1, newnode, 2)\n",
        "\n",
        "traverse(node1)"
      ],
      "metadata": {
        "id": "XMP6cGvTiS-e",
        "colab": {
          "base_uri": "https://localhost:8080/"
        },
        "outputId": "6365d1da-a526-428b-cc14-1183a8e19e3c"
      },
      "execution_count": 10,
      "outputs": [
        {
          "output_type": "stream",
          "name": "stdout",
          "text": [
            "Original list: \n",
            "\n",
            "1->2->3->4->Null\n",
            "1->5->2->3->4->Null\n"
          ]
        }
      ]
    },
    {
      "cell_type": "markdown",
      "source": [
        "# Deletion"
      ],
      "metadata": {
        "id": "jpFV4QE73Nt0"
      }
    },
    {
      "cell_type": "code",
      "source": [
        "class Node:\n",
        "  def __init__(self, data):\n",
        "    self.data = data\n",
        "    self .next = None\n",
        "\n",
        "def traverse(head):\n",
        "    currentNode = head\n",
        "    while currentNode:\n",
        "        print(currentNode.data, end = '->')\n",
        "        currentNode = currentNode.next\n",
        "    print(\"Null\")\n",
        "\n",
        "def deletion(head, delnode):\n",
        "    if head == delnode:\n",
        "        return head.next\n",
        "    currentNode = head\n",
        "    while currentNode.next and currentNode != delnode:\n",
        "        currentNode = currentNode.next\n",
        "\n",
        "    if currentNode.next is None:\n",
        "        return head\n",
        "\n",
        "    currentNode.next = currentNode.next.next\n",
        "    return head\n",
        "\n",
        "node1 = Node(1)\n",
        "node2 = Node(2)\n",
        "node3 = Node(3)\n",
        "node4 = Node(4)\n",
        "\n",
        "node1.next = node2\n",
        "node2.next = node3\n",
        "node3.next = node4\n",
        "\n",
        "print(\"Original list: \")\n",
        "traverse(node1)\n",
        "\n",
        "print(\"\\nAfter deletion: \")\n",
        "node1 = deletion(node1, node3)\n",
        "traverse(node1)"
      ],
      "metadata": {
        "id": "Eot4onZtlcUy",
        "colab": {
          "base_uri": "https://localhost:8080/"
        },
        "outputId": "59d3d3c8-26f7-46f5-9849-189449eec9a3"
      },
      "execution_count": 11,
      "outputs": [
        {
          "output_type": "stream",
          "name": "stdout",
          "text": [
            "Original list: \n",
            "1->2->3->4->Null\n",
            "\n",
            "After deletion: \n",
            "1->2->3->Null\n"
          ]
        }
      ]
    },
    {
      "cell_type": "markdown",
      "source": [
        "## Bubble Sort"
      ],
      "metadata": {
        "id": "fNAtIxWG5tsA"
      }
    },
    {
      "cell_type": "code",
      "source": [
        "arr = []\n",
        "arr = list(map(int, input().split()))\n",
        "n = len(arr)\n",
        "print(\"Unsorted:\\n\", arr)\n",
        "\n",
        "#Bubble sort\n",
        "for i in range(n - 1):\n",
        "    swapped = False\n",
        "    for j in range(n - i - 1):\n",
        "        if arr[j] > arr[j+1]:\n",
        "            arr[j], arr[j+1] = arr[j+1], arr[j]\n",
        "            swapped = True\n",
        "    if not swapped:\n",
        "        break\n",
        "print(\"Sorted:\\n\", arr)"
      ],
      "metadata": {
        "id": "c4mCB-ODA6hd",
        "outputId": "f24e0a97-34e9-4920-a596-f5a013aa32ac",
        "colab": {
          "base_uri": "https://localhost:8080/"
        }
      },
      "execution_count": 21,
      "outputs": [
        {
          "output_type": "stream",
          "name": "stdout",
          "text": [
            "7 3 12 9 5\n",
            "Unsorted:\n",
            " [7, 3, 12, 9, 5]\n",
            "Sorted:\n",
            " [3, 5, 7, 9, 12]\n"
          ]
        }
      ]
    },
    {
      "cell_type": "markdown",
      "source": [
        "# Selection sort"
      ],
      "metadata": {
        "id": "irNXUkPpAk-j"
      }
    },
    {
      "cell_type": "code",
      "source": [
        "arr = []\n",
        "arr = list(map(int, input().split()))\n",
        "n = len(arr)\n",
        "print(\"Unsorted:\\n\", arr)\n",
        "\n",
        "for i in range(n):\n",
        "    min_index = i\n",
        "\n",
        "    for j in range(i + 1, n):\n",
        "        if arr[j] < arr[min_index]:\n",
        "            min_index = j\n",
        "    arr[i], arr[min_index] = arr[min_index], arr[i]\n",
        "print(\"Sorted:\\n\",arr)"
      ],
      "metadata": {
        "id": "N-B-iAG46VFG",
        "outputId": "1bd5ea77-26c5-4dad-ff16-745d006dae65",
        "colab": {
          "base_uri": "https://localhost:8080/"
        }
      },
      "execution_count": 22,
      "outputs": [
        {
          "output_type": "stream",
          "name": "stdout",
          "text": [
            "9 2 4 7 1\n",
            "Unsorted:\n",
            " [9, 2, 4, 7, 1]\n",
            "Sorted:\n",
            " [1, 2, 4, 7, 9]\n"
          ]
        }
      ]
    },
    {
      "cell_type": "code",
      "source": [],
      "metadata": {
        "id": "8TX85ohHzrwx"
      },
      "execution_count": null,
      "outputs": []
    }
  ]
}